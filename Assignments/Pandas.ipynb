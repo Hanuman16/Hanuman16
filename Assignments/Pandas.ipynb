{
  "cells": [
    {
      "cell_type": "markdown",
      "metadata": {
        "id": "view-in-github",
        "colab_type": "text"
      },
      "source": [
        "<a href=\"https://colab.research.google.com/github/Hanuman16/Hanuman16/blob/main/Assignments/Pandas.ipynb\" target=\"_parent\"><img src=\"https://colab.research.google.com/assets/colab-badge.svg\" alt=\"Open In Colab\"/></a>"
      ]
    },
    {
      "cell_type": "markdown",
      "metadata": {
        "id": "lXNivi0pzQxc"
      },
      "source": [
        "### Data Exploration Exercises\n",
        "\n",
        "#### Task 1.1 - The goal of this exercise is to find the average age of celebrities who died February–July 2016\n",
        "\n",
        "<div>\n",
        "  <a href=\"https://colab.research.google.com/github/emharsha1812/CCE_Assignment/blob/main/Assignments/Pandas.ipynb\" target=\"_parent\">\n",
        "    <img src=\"https://colab.research.google.com/assets/colab-badge.svg\" alt=\"Open In Colab\"/>\n",
        "  </a>\n",
        "</div>\n",
        "\n",
        "1. Create a data frame from the file celebrity_deaths_2016.csv. For this exercise, we’ll use only two columns:\n",
        "–dateofdeath\n",
        "– age\n",
        "2. Create a new month column containing the month from the dateofdeath\n",
        "column.\n",
        "3. Make the month column the index of the data frame.\n",
        "4. Sort the data frame by the index.\n",
        "5. Clean all nonintegers from the age column.\n",
        "6. Turn the age column into an integer value.\n",
        "7. Find the average age of celebrities who died during that period"
      ]
    },
    {
      "cell_type": "code",
      "execution_count": 5,
      "metadata": {
        "id": "Itnplk17zQxf",
        "outputId": "82ae6b8c-cca0-4eb7-8a24-bbe6898e1964",
        "colab": {
          "base_uri": "https://localhost:8080/"
        }
      },
      "outputs": [
        {
          "output_type": "stream",
          "name": "stdout",
          "text": [
            "Average age of celebrities who died from February to July 2016: 76.85\n"
          ]
        }
      ],
      "source": [
        "\n",
        "import pandas as pd\n",
        "import numpy as np\n",
        "\n",
        "# Load the dataset\n",
        "url = 'https://github.com/emharsha1812/CCE_Assignment/blob/main/Assignments/Assignment1/dataset/celebrity_deaths_2016.csv?raw=true'\n",
        "df = pd.read_csv(url, usecols=['dateofdeath', 'age'])\n",
        "\n",
        "# Create a new 'month' column from 'dateofdeath'\n",
        "df['dateofdeath'] = pd.to_datetime(df['dateofdeath'], errors='coerce')\n",
        "df['month'] = df['dateofdeath'].dt.month\n",
        "\n",
        "# Filter for deaths between February and July (months 2-7)\n",
        "df_filtered = df.loc[(df['month'] >= 2) & (df['month'] <= 7)].copy()\n",
        "\n",
        "# Clean the age column, and convert to numeric while handling non-numeric values\n",
        "df_filtered.loc[:, 'age'] = pd.to_numeric(df_filtered['age'], errors='coerce')\n",
        "\n",
        "# Handle rows with unrealistic age values (e.g., greater than 100)\n",
        "df_filtered = df_filtered.loc[(df_filtered['age'] > 0) & (df_filtered['age'] <= 100)]\n",
        "\n",
        "# Calculate the average age\n",
        "average_age = df_filtered['age'].mean()\n",
        "\n",
        "print(\"Average age of celebrities who died from February to July 2016:\", round(average_age, 2))"
      ]
    },
    {
      "cell_type": "markdown",
      "metadata": {
        "id": "btxMA9aYzQxg"
      },
      "source": [
        "### Task 1.2 - The goal of this exercise is to group the data according to the below conditions\n",
        "1. Load the CSV file nyc_taxi_2019-01.csv into a data frame using only the columns passenger_count, trip_distance, and total_amount.\n",
        "2. Using a descending sort, find the average cost of the 20 longest (in distance) taxi rides in January 2019.\n",
        "3. Using an ascending sort, find the average cost of the 20 longest (in distance) taxi rides in January 2019. Are the results any different?\n",
        "4. Sort by ascending passenger count and descending trip distance. (So, start with the longest trip with 0 passengers and end with the shortest trip with 9 passengers.) What is the average price paid for the top 50 rides?\n"
      ]
    },
    {
      "cell_type": "code",
      "execution_count": 6,
      "metadata": {
        "id": "rAlzvwHmzQxh",
        "outputId": "f7b25736-0852-4208-e3cd-0d8db1559f4f",
        "colab": {
          "base_uri": "https://localhost:8080/"
        }
      },
      "outputs": [
        {
          "output_type": "stream",
          "name": "stdout",
          "text": [
            "Average cost (descending sort, ascending sort): (86.64, 6.47)\n",
            "Average price for top 50 rides: 22.01\n"
          ]
        }
      ],
      "source": [
        "\n",
        "import pandas as pd\n",
        "import numpy as np\n",
        "\n",
        "# Load the dataset\n",
        "filename = 'https://github.com/emharsha1812/CCE_Assignment/blob/main/Assignments/Assignment1/dataset/nyc_taxidataset.csv?raw=true'\n",
        "df = pd.read_csv(filename, usecols=['passenger_count', 'trip_distance', 'total_amount'], dtype={'total_amount': np.float128})\n",
        "\n",
        "# Task 1.2.2 & 1.2.3: Calculate average cost of 20 longest rides in descending and ascending order\n",
        "def get_average_cost_descending_sort(df):\n",
        "    \"\"\"Returns a tuple of average costs (avg_desc, avg_asc) for the 20 longest trips\"\"\"\n",
        "    # Sort by trip_distance descending and ascending\n",
        "    desc_sorted = df.sort_values(by='trip_distance', ascending=False).head(20)\n",
        "    asc_sorted = df.sort_values(by='trip_distance', ascending=True).head(20)\n",
        "\n",
        "    # Calculate the average total_amount\n",
        "    avg_desc = round(desc_sorted['total_amount'].mean(), 2)\n",
        "    avg_asc = round(asc_sorted['total_amount'].mean(), 2)\n",
        "\n",
        "    return (avg_desc, avg_asc)\n",
        "\n",
        "# Task 1.2.4: Average price for top 50 rides sorted by passenger_count and trip_distance\n",
        "def get_price_top50_rides(df):\n",
        "    \"\"\"Returns the average price for top 50 rides sorted by ascending passenger_count and descending trip_distance\"\"\"\n",
        "    # Sort by ascending passenger count and descending trip distance\n",
        "    sorted_df = df.sort_values(by=['passenger_count', 'trip_distance'], ascending=[True, False]).head(50)\n",
        "\n",
        "    # Calculate the average total_amount\n",
        "    avg_price_rides = round(sorted_df['total_amount'].mean(), 2)\n",
        "\n",
        "    return avg_price_rides\n",
        "\n",
        "# Run the functions\n",
        "get_average_cost_ans = get_average_cost_descending_sort(df)\n",
        "get_avg_price_top50_ans = get_price_top50_rides(df)\n",
        "\n",
        "print(\"Average cost (descending sort, ascending sort):\", get_average_cost_ans)\n",
        "print(\"Average price for top 50 rides:\", get_avg_price_top50_ans)"
      ]
    },
    {
      "cell_type": "markdown",
      "metadata": {
        "id": "1QpxQIrGzQxi"
      },
      "source": [
        "#### Task 1.3 - The goal of this exercise is to group the data according to the below conditions\n",
        "1. Load taxi data from January 2019 into a data frame using only the columns passenger_count, trip_distance, and total_amount.\n",
        "2. For each number of passengers, find the mean cost of a taxi ride. Sort this result from lowest (i.e., cheapest) to highest (i.e., most expensive). Return the topmost value (use .head(1))\n",
        "Sort the results again by increasing the number of passengers. Return the topmost value (use .head(1))\n",
        "3. Create a new column, trip_distance_group, in which the values are short (< 2\n",
        "miles), medium (>= 2 miles and <= 10 miles), and long (> 10 miles). What is the\n",
        "average number of passengers per trip length category? Sort this result from\n",
        "highest (most passengers) to lowest (fewest passengers)."
      ]
    },
    {
      "cell_type": "code",
      "execution_count": 7,
      "metadata": {
        "id": "35mOJF85zQxi",
        "outputId": "28573ee7-ca29-4d1b-b732-dd0ee6d5db85",
        "colab": {
          "base_uri": "https://localhost:8080/"
        }
      },
      "outputs": [
        {
          "output_type": "stream",
          "name": "stdout",
          "text": [
            "Mean cost for the lowest passenger count: passenger_count\n",
            "1    15.460911\n",
            "Name: total_amount, dtype: float64\n",
            "Passenger count with the lowest average fare: passenger_count\n",
            "1    15.460911\n",
            "Name: total_amount, dtype: float64\n",
            "Average passengers per trip length category: trip_distance_group\n",
            "medium    1.788723\n",
            "short     1.749334\n",
            "long      1.735562\n",
            "Name: passenger_count, dtype: float64\n"
          ]
        }
      ],
      "source": [
        "\n",
        "import pandas as pd\n",
        "\n",
        "# Load the dataset\n",
        "filename = 'https://github.com/emharsha1812/CCE_Assignment/blob/main/Assignments/Assignment1/dataset/nyc_taxidataset.csv?raw=true'\n",
        "df = pd.read_csv(filename, usecols=['passenger_count', 'trip_distance', 'total_amount'])\n",
        "\n",
        "# Task 1.3.1: Find mean cost of a taxi ride for each passenger count\n",
        "def get_mean_cost(df):\n",
        "    \"\"\"Returns mean cost of a taxi ride for each passenger count\"\"\"\n",
        "    mean_cost = df.groupby('passenger_count')['total_amount'].mean().sort_values(ascending=True)\n",
        "    return mean_cost.head(1)\n",
        "\n",
        "# Task 1.3.2: Sort results by increasing passenger count and return topmost value\n",
        "def get_lowest_average_fare(df):\n",
        "    \"\"\"Returns passenger count with the lowest average fare\"\"\"\n",
        "    lowest_fare = df.groupby('passenger_count')['total_amount'].mean().sort_values(ascending=True)\n",
        "    return lowest_fare.head(1)\n",
        "\n",
        "# Task 1.3.3: Categorize trips by distance and calculate average passengers per category\n",
        "def get_trip_length_category(df):\n",
        "    \"\"\"Categorizes trips into short, medium, and long and returns the average number of passengers per category\"\"\"\n",
        "    # Define categories based on trip distance\n",
        "    conditions = [\n",
        "        (df['trip_distance'] < 2),\n",
        "        (df['trip_distance'] >= 2) & (df['trip_distance'] <= 10),\n",
        "        (df['trip_distance'] > 10)\n",
        "    ]\n",
        "    choices = ['short', 'medium', 'long']\n",
        "    df['trip_distance_group'] = np.select(conditions, choices)\n",
        "\n",
        "    # Calculate average number of passengers for each trip length category\n",
        "    avg_passengers_per_category = df.groupby('trip_distance_group')['passenger_count'].mean().sort_values(ascending=False)\n",
        "\n",
        "    return avg_passengers_per_category\n",
        "\n",
        "# Run the functions\n",
        "mean_cost_ans = get_mean_cost(df)\n",
        "lowest_average_fare_ans = get_lowest_average_fare(df)\n",
        "trip_length_category_ans = get_trip_length_category(df)\n",
        "\n",
        "print(\"Mean cost for the lowest passenger count:\", mean_cost_ans)\n",
        "print(\"Passenger count with the lowest average fare:\", lowest_average_fare_ans)\n",
        "print(\"Average passengers per trip length category:\", trip_length_category_ans)"
      ]
    }
  ],
  "metadata": {
    "kernelspec": {
      "display_name": "Python 3",
      "language": "python",
      "name": "python3"
    },
    "language_info": {
      "codemirror_mode": {
        "name": "ipython",
        "version": 3
      },
      "file_extension": ".py",
      "mimetype": "text/x-python",
      "name": "python",
      "nbconvert_exporter": "python",
      "pygments_lexer": "ipython3",
      "version": "3.10.12"
    },
    "colab": {
      "provenance": [],
      "include_colab_link": true
    }
  },
  "nbformat": 4,
  "nbformat_minor": 0
}